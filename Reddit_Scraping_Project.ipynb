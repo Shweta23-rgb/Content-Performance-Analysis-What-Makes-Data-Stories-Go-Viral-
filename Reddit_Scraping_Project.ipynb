{
 "cells": [
  {
   "cell_type": "markdown",
   "id": "d356776c-db30-475c-a713-81843ca880bc",
   "metadata": {
    "tags": []
   },
   "source": [
    "# Content Performance Analysis: What Makes Data Stories Go Viral?\n",
    "\n",
    "**Project Overview:**\n",
    "\n",
    "\n",
    "This project analyzes viral content patterns on Reddit's r/dataisbeautiful community to understand what drives engagement in data storytelling. The insights generated can inform content marketing strategies and help creators \n",
    "optimize their data-driven content for maximum reach.\n",
    "\n",
    "\n",
    "**Business Problem:**\n",
    "\n",
    "Content creators and marketing teams need to understand:\n",
    "\n",
    "Which topics resonate most with data-focused audiences?\n",
    "Does creating original content vs. sharing existing content make a difference?\n",
    "What emotional tone drives the highest engagement?\n",
    "How does title length impact content performance?\n",
    "What patterns exist in truly viral data content?"
   ]
  },
  {
   "cell_type": "code",
   "execution_count": 45,
   "id": "86c5c29f-8dc0-49b1-9f72-dadbe71709a3",
   "metadata": {
    "tags": []
   },
   "outputs": [
    {
     "name": "stdout",
     "output_type": "stream",
     "text": [
      "Requirement already satisfied: requests in /Users/saiswethalakkoju/anaconda3/lib/python3.11/site-packages (2.29.0)\n",
      "Requirement already satisfied: beautifulsoup4 in /Users/saiswethalakkoju/anaconda3/lib/python3.11/site-packages (4.12.2)\n",
      "Requirement already satisfied: pandas in /Users/saiswethalakkoju/anaconda3/lib/python3.11/site-packages (2.2.3)\n",
      "Requirement already satisfied: matplotlib in /Users/saiswethalakkoju/anaconda3/lib/python3.11/site-packages (3.9.2)\n",
      "Requirement already satisfied: seaborn in /Users/saiswethalakkoju/anaconda3/lib/python3.11/site-packages (0.12.2)\n",
      "Requirement already satisfied: charset-normalizer<4,>=2 in /Users/saiswethalakkoju/anaconda3/lib/python3.11/site-packages (from requests) (2.0.4)\n",
      "Requirement already satisfied: idna<4,>=2.5 in /Users/saiswethalakkoju/anaconda3/lib/python3.11/site-packages (from requests) (3.4)\n",
      "Requirement already satisfied: urllib3<1.27,>=1.21.1 in /Users/saiswethalakkoju/anaconda3/lib/python3.11/site-packages (from requests) (1.26.16)\n",
      "Requirement already satisfied: certifi>=2017.4.17 in /Users/saiswethalakkoju/anaconda3/lib/python3.11/site-packages (from requests) (2024.8.30)\n",
      "Requirement already satisfied: soupsieve>1.2 in /Users/saiswethalakkoju/anaconda3/lib/python3.11/site-packages (from beautifulsoup4) (2.4)\n",
      "Requirement already satisfied: numpy>=1.23.2 in /Users/saiswethalakkoju/anaconda3/lib/python3.11/site-packages (from pandas) (2.2.0)\n",
      "Requirement already satisfied: python-dateutil>=2.8.2 in /Users/saiswethalakkoju/anaconda3/lib/python3.11/site-packages (from pandas) (2.8.2)\n",
      "Requirement already satisfied: pytz>=2020.1 in /Users/saiswethalakkoju/anaconda3/lib/python3.11/site-packages (from pandas) (2022.7)\n",
      "Requirement already satisfied: tzdata>=2022.7 in /Users/saiswethalakkoju/anaconda3/lib/python3.11/site-packages (from pandas) (2023.3)\n",
      "Requirement already satisfied: contourpy>=1.0.1 in /Users/saiswethalakkoju/anaconda3/lib/python3.11/site-packages (from matplotlib) (1.0.5)\n",
      "Requirement already satisfied: cycler>=0.10 in /Users/saiswethalakkoju/anaconda3/lib/python3.11/site-packages (from matplotlib) (0.11.0)\n",
      "Requirement already satisfied: fonttools>=4.22.0 in /Users/saiswethalakkoju/anaconda3/lib/python3.11/site-packages (from matplotlib) (4.25.0)\n",
      "Requirement already satisfied: kiwisolver>=1.3.1 in /Users/saiswethalakkoju/anaconda3/lib/python3.11/site-packages (from matplotlib) (1.4.4)\n",
      "Requirement already satisfied: packaging>=20.0 in /Users/saiswethalakkoju/anaconda3/lib/python3.11/site-packages (from matplotlib) (23.0)\n",
      "Requirement already satisfied: pillow>=8 in /Users/saiswethalakkoju/anaconda3/lib/python3.11/site-packages (from matplotlib) (9.4.0)\n",
      "Requirement already satisfied: pyparsing>=2.3.1 in /Users/saiswethalakkoju/anaconda3/lib/python3.11/site-packages (from matplotlib) (3.0.9)\n",
      "Requirement already satisfied: six>=1.5 in /Users/saiswethalakkoju/anaconda3/lib/python3.11/site-packages (from python-dateutil>=2.8.2->pandas) (1.16.0)\n",
      "Packages installed successfully!\n"
     ]
    }
   ],
   "source": [
    "#Installing packages\n",
    "!pip install requests beautifulsoup4 pandas matplotlib seaborn\n",
    "\n",
    "print(\"Packages installed successfully!\")"
   ]
  },
  {
   "cell_type": "code",
   "execution_count": 46,
   "id": "196616c6-bfbf-4142-8f18-b7fbd46045c0",
   "metadata": {
    "tags": []
   },
   "outputs": [
    {
     "name": "stdout",
     "output_type": "stream",
     "text": [
      "All libraries imported!\n",
      "Ready to start scraping!\n"
     ]
    }
   ],
   "source": [
    "#Import all libraries\n",
    "import requests\n",
    "from bs4 import BeautifulSoup\n",
    "import pandas as pd\n",
    "import matplotlib.pyplot as plt\n",
    "import seaborn as sns\n",
    "import time\n",
    "\n",
    "print(\"All libraries imported!\")\n",
    "print(\"Ready to start scraping!\")"
   ]
  },
  {
   "cell_type": "code",
   "execution_count": 47,
   "id": "c750c23c-a864-462b-a029-95af2b3fdc69",
   "metadata": {
    "tags": []
   },
   "outputs": [
    {
     "name": "stdout",
     "output_type": "stream",
     "text": [
      "Status code: 200\n",
      "Successfully connected to Reddit!\n",
      "Page content length: 351797 characters\n"
     ]
    }
   ],
   "source": [
    "#Test if I can connect to Reddit\n",
    "url = \"https://old.reddit.com/r/dataisbeautiful/\"\n",
    "headers = {'User-Agent': 'Mozilla/5.0 (Windows NT 10.0; Win64; x64) AppleWebKit/537.36'}\n",
    "\n",
    "response = requests.get(url, headers=headers)\n",
    "print(f\"Status code: {response.status_code}\")\n",
    "\n",
    "if response.status_code == 200:\n",
    "    print(\"Successfully connected to Reddit!\")\n",
    "    print(f\"Page content length: {len(response.content)} characters\")\n",
    "else:\n",
    "    print(\"Connection failed. We might need to adjust our approach.\")"
   ]
  },
  {
   "cell_type": "code",
   "execution_count": 23,
   "id": "4844409c-39c3-4ad9-b293-3295591be100",
   "metadata": {
    "tags": []
   },
   "outputs": [
    {
     "name": "stdout",
     "output_type": "stream",
     "text": [
      "Page title: DataIsBeautiful\n",
      "\n",
      "First 500 characters of the page:\n",
      "<!doctype html><html xmlns=\"http://www.w3.org/1999/xhtml\" lang=\"en\" xml:lang=\"en\"><head><title>DataIsBeautiful</title><meta name=\"keywords\" content=\" reddit, reddit.com, vote, comment, submit \" /><meta name=\"description\" content=\"DataIsBeautiful is for visualizations that effectively convey information. Aesthetics are an important part of information visualization, but...\" /><meta name=\"referrer\" content=\"always\"><meta http-equiv=\"Content-Type\" content=\"text/html; charset=UTF-8\" /><link type=\"ap\n"
     ]
    }
   ],
   "source": [
    "# Cell 4: Let's see what we got from Reddit\n",
    "soup = BeautifulSoup(response.content, 'html.parser')\n",
    "\n",
    "# Let's look at the page title to confirm we're in the right place\n",
    "page_title = soup.find('title').text\n",
    "print(f\"Page title: {page_title}\")\n",
    "\n",
    "# Let's see the first 500 characters of the page\n",
    "print(\"\\nFirst 500 characters of the page:\")\n",
    "print(response.text[:500])"
   ]
  },
  {
   "cell_type": "code",
   "execution_count": 48,
   "id": "79f98b75-3e5a-4678-836a-f40a5e8e8e0c",
   "metadata": {
    "tags": []
   },
   "outputs": [
    {
     "name": "stdout",
     "output_type": "stream",
     "text": [
      "Found a post!\n",
      "Post title: [Topic][Open] Open Discussion Thread — Anybody can post a general visualization question or start a fresh discussion!\n"
     ]
    }
   ],
   "source": [
    "# Cell 5: Find the first post\n",
    "# Reddit posts are in 'div' tags with class 'thing'\n",
    "first_post = soup.find('div', class_='thing')\n",
    "\n",
    "if first_post:\n",
    "    print(\"Found a post!\")\n",
    "    \n",
    "    # Let's try to find the title\n",
    "    title_element = first_post.find('a', class_='title')\n",
    "    if title_element:\n",
    "        title = title_element.text.strip()\n",
    "        print(f\"Post title: {title}\")\n",
    "    else:\n",
    "        print(\"Couldn't find title\")\n",
    "        \n",
    "else:\n",
    "    print(\"No posts found - we might need to adjust our search\")"
   ]
  },
  {
   "cell_type": "code",
   "execution_count": 25,
   "id": "87a9a2e0-6598-42b3-b339-4bc3b3fdf97a",
   "metadata": {
    "tags": []
   },
   "outputs": [
    {
     "name": "stdout",
     "output_type": "stream",
     "text": [
      "Total posts found: 30\n",
      "\n",
      "First 5 post titles:\n",
      "--------------------------------------------------\n",
      "1. [Topic][Open] Open Discussion Thread — Anybody can post a general visualization question or start a fresh discussion!\n",
      "2. [Topic][Open] Open Discussion Thread — Anybody can post a general visualization question or start a fresh discussion!\n",
      "3. [OC] Birth Rates Across Europe\n",
      "4. Don’t just beat them, give them nightmares. Be Scary Good.\n",
      "5. [OC]Mapping America’s Most Desolate Areas by Distance from Costco and Sam’s Club\n"
     ]
    }
   ],
   "source": [
    "# Cell 6: Find all posts and see what we get\n",
    "all_posts = soup.find_all('div', class_='thing')\n",
    "\n",
    "print(f\"Total posts found: {len(all_posts)}\")\n",
    "print(\"\\nFirst 5 post titles:\")\n",
    "print(\"-\" * 50)\n",
    "\n",
    "for i, post in enumerate(all_posts[:5]):\n",
    "    title_element = post.find('a', class_='title')\n",
    "    if title_element:\n",
    "        title = title_element.text.strip()\n",
    "        print(f\"{i+1}. {title}\")\n",
    "    else:\n",
    "        print(f\"{i+1}. [No title found]\")"
   ]
  },
  {
   "cell_type": "code",
   "execution_count": 26,
   "id": "d736a788-c0d2-446b-836a-83ccc77f281f",
   "metadata": {
    "tags": []
   },
   "outputs": [
    {
     "name": "stdout",
     "output_type": "stream",
     "text": [
      "Post 1: [Topic][Open] Open Discussion Thread — Anybody can...\n",
      "  Upvotes: 0\n",
      "----------------------------------------\n"
     ]
    }
   ],
   "source": [
    "# Cell 7: Let's try to extract upvotes from the first real post\n",
    "# Skip the pinned post (usually index 0) and try the next ones\n",
    "for i, post in enumerate(all_posts[1:6]):  # Try posts 1-5\n",
    "    title_element = post.find('a', class_='title')\n",
    "    \n",
    "    if title_element:\n",
    "        title = title_element.text.strip()\n",
    "        \n",
    "        # Try to find upvotes (score)\n",
    "        score_element = post.find('div', class_='score unvoted')\n",
    "        if score_element:\n",
    "            score = score_element.text.strip()\n",
    "            print(f\"Post {i+1}: {title[:50]}...\")\n",
    "            print(f\"  Upvotes: {score}\")\n",
    "            print(\"-\" * 40)\n",
    "            break  # Stop after finding one with upvotes\n",
    "        else:\n",
    "            print(f\"Post {i+1}: No score found for this post\")"
   ]
  },
  {
   "cell_type": "code",
   "execution_count": null,
   "id": "8af248d4-8005-4c10-885f-6f7dd6b24019",
   "metadata": {},
   "outputs": [],
   "source": [
    "# Cell 8: Filter out discussion threads and get real data visualization posts\n",
    "# We need to separate actual data visualizations from community discussion posts\n",
    "# Discussion threads and announcements aren't relevant for our viral content analysis\n",
    "\n",
    "all_posts = soup.find_all('div', class_='thing')\n",
    "print(f\"Total posts found: {len(all_posts)}\")\n",
    "print(\"\\nFiltering out discussion threads...\")\n",
    "print(\"-\" * 50)\n",
    "\n",
    "real_data_posts = []\n",
    "\n",
    "for i, post in enumerate(all_posts):\n",
    "   title_element = post.find('a', class_='title')\n",
    "   if title_element:\n",
    "       title = title_element.text.strip()\n",
    "       \n",
    "       # Skip discussion threads and announcements - these aren't data content\n",
    "       # We're looking for actual visualizations, not meta-discussions about the subreddit\n",
    "       if not any(keyword in title.lower() for keyword in ['[topic]', '[open]', 'discussion thread', 'announcement']):\n",
    "           real_data_posts.append(post)\n",
    "           print(f\"{len(real_data_posts)}. {title}\")\n",
    "           \n",
    "           # Stop after finding 10 good posts for initial testing\n",
    "           # We'll scale this up later when we scrape all sections\n",
    "           if len(real_data_posts) >= 10:\n",
    "               break\n",
    "\n",
    "print(f\"\\nFound {len(real_data_posts)} real data visualization posts!\")"
   ]
  },
  {
   "cell_type": "code",
   "execution_count": 28,
   "id": "7e334a01-dd79-4f61-a8b3-d54ed6151c6c",
   "metadata": {
    "tags": []
   },
   "outputs": [
    {
     "name": "stdout",
     "output_type": "stream",
     "text": [
      "Raw score text: '269'\n",
      "Raw comments text: '131 comments'\n",
      "\n",
      "Post: [OC] Birth Rates Across Europe...\n",
      "Score: 269\n",
      "Comments: 131 comments\n",
      "--------------------------------------------------------------------------------\n",
      "Raw score text: '•'\n",
      "\n",
      "Post: Don’t just beat them, give them nightmares. Be Scary Good....\n",
      "Score: •\n",
      "Comments: 0 comments\n",
      "--------------------------------------------------------------------------------\n",
      "Raw score text: '907'\n",
      "Raw comments text: '154 comments'\n",
      "\n",
      "Post: [OC]Mapping America’s Most Desolate Areas by Distance from C...\n",
      "Score: 907\n",
      "Comments: 154 comments\n",
      "--------------------------------------------------------------------------------\n",
      "Raw score text: '274'\n",
      "Raw comments text: '45 comments'\n",
      "\n",
      "Post: Air incidents and deaths by year [OC]...\n",
      "Score: 274\n",
      "Comments: 45 comments\n",
      "--------------------------------------------------------------------------------\n",
      "Raw score text: '92'\n",
      "Raw comments text: '7 comments'\n",
      "\n",
      "Post: Most of the increase in natural disasters in the late 20th c...\n",
      "Score: 92\n",
      "Comments: 7 comments\n",
      "--------------------------------------------------------------------------------\n"
     ]
    }
   ],
   "source": [
    "# Cell 9: Now let's extract upvotes and comments from these real posts\n",
    "post_data = []\n",
    "\n",
    "for i, post in enumerate(real_data_posts[:5]):  # Just test with first 5\n",
    "    title_element = post.find('a', class_='title')\n",
    "    title = title_element.text.strip()\n",
    "    \n",
    "    # Get upvotes\n",
    "    score_element = post.find('div', class_='score unvoted')\n",
    "    if score_element:\n",
    "        score_text = score_element.text.strip()\n",
    "        print(f\"Raw score text: '{score_text}'\")\n",
    "    else:\n",
    "        score_text = \"0\"\n",
    "    \n",
    "    # Get comments\n",
    "    comments_element = post.find('a', class_='comments')\n",
    "    if comments_element:\n",
    "        comments_text = comments_element.text.strip()\n",
    "        print(f\"Raw comments text: '{comments_text}'\")\n",
    "    else:\n",
    "        comments_text = \"0 comments\"\n",
    "    \n",
    "    print(f\"\\nPost: {title[:60]}...\")\n",
    "    print(f\"Score: {score_text}\")\n",
    "    print(f\"Comments: {comments_text}\")\n",
    "    print(\"-\" * 80)"
   ]
  },
  {
   "cell_type": "code",
   "execution_count": 29,
   "id": "9e8ac65d-09c8-4e8e-a53f-e6ca6544b080",
   "metadata": {
    "tags": []
   },
   "outputs": [
    {
     "name": "stdout",
     "output_type": "stream",
     "text": [
      "Testing score cleaning:\n",
      "'204' → 204\n",
      "'•' → 0\n",
      "'878' → 878\n",
      "'265' → 265\n",
      "\n",
      "Testing comments cleaning:\n",
      "'107 comments' → 107\n",
      "'0 comments' → 0\n",
      "'150 comments' → 150\n"
     ]
    }
   ],
   "source": [
    "# Cell 10: Let's clean up the score and comments data\n",
    "import re\n",
    "\n",
    "def clean_score(score_text):\n",
    "    if score_text == '•' or score_text == '':\n",
    "        return 0\n",
    "    try:\n",
    "        return int(score_text)\n",
    "    except:\n",
    "        return 0\n",
    "\n",
    "def clean_comments(comments_text):\n",
    "    # Extract number from \"107 comments\" or \"0 comments\"\n",
    "    numbers = re.findall(r'\\d+', comments_text)\n",
    "    return int(numbers[0]) if numbers else 0\n",
    "\n",
    "# Test our cleaning functions\n",
    "test_scores = ['204', '•', '878', '265']\n",
    "test_comments = ['107 comments', '0 comments', '150 comments']\n",
    "\n",
    "print(\"Testing score cleaning:\")\n",
    "for score in test_scores:\n",
    "    print(f\"'{score}' → {clean_score(score)}\")\n",
    "\n",
    "print(\"\\nTesting comments cleaning:\")\n",
    "for comment in test_comments:\n",
    "    print(f\"'{comment}' → {clean_comments(comment)}\")"
   ]
  },
  {
   "cell_type": "markdown",
   "id": "9ab3646d-7576-4768-97c2-a889846a6ca2",
   "metadata": {},
   "source": [
    "So, the above was to check if my code is working alright or not. I want to scrape atleast 4 pages of reddit data, to make sure that we have enough sample size "
   ]
  },
  {
   "cell_type": "code",
   "execution_count": 49,
   "id": "1fa9fbc2-fff0-41a1-a0e2-6de76085ffdc",
   "metadata": {
    "tags": []
   },
   "outputs": [
    {
     "name": "stdout",
     "output_type": "stream",
     "text": [
      "Scraping Hot...\n",
      "Found 28 posts in Hot\n",
      "\n",
      " Sample data:\n",
      "1. [OC] Birth Rates Across Europe... | 356 upvotes | 167 comments\n",
      "2. Don’t just beat them, give them nightmares. Be Sca... | 0 upvotes | 0 comments\n",
      "3. [OC]Mapping America’s Most Desolate Areas by Dista... | 970 upvotes | 156 comments\n"
     ]
    }
   ],
   "source": [
    "# Cell 12: Creating function to scrape all 4 sections\n",
    "def scrape_reddit_section(url, section_name):\n",
    "    \"\"\"Scrape one section of Reddit\"\"\"\n",
    "    print(f\"Scraping {section_name}...\")\n",
    "    \n",
    "    headers = {'User-Agent': 'Mozilla/5.0 (Windows NT 10.0; Win64; x64) AppleWebKit/537.36'}\n",
    "    \n",
    "    try:\n",
    "        response = requests.get(url, headers=headers)\n",
    "        if response.status_code != 200:\n",
    "            print(f\"Failed to access {section_name}\")\n",
    "            return []\n",
    "        \n",
    "        soup = BeautifulSoup(response.content, 'html.parser')\n",
    "        all_posts = soup.find_all('div', class_='thing')\n",
    "        \n",
    "        section_data = []\n",
    "        \n",
    "        for post in all_posts:\n",
    "            title_element = post.find('a', class_='title')\n",
    "            if title_element:\n",
    "                title = title_element.text.strip()\n",
    "                \n",
    "                # Skip discussion threads\n",
    "                if not any(keyword in title.lower() for keyword in ['[topic]', '[open]', 'discussion thread']):\n",
    "                    \n",
    "                    # Get upvotes\n",
    "                    score_element = post.find('div', class_='score unvoted')\n",
    "                    score = clean_score(score_element.text.strip() if score_element else '0')\n",
    "                    \n",
    "                    # Get comments\n",
    "                    comments_element = post.find('a', class_='comments')\n",
    "                    comments = clean_comments(comments_element.text.strip() if comments_element else '0 comments')\n",
    "                    \n",
    "                    section_data.append({\n",
    "                        'title': title,\n",
    "                        'upvotes': score,\n",
    "                        'comments': comments,\n",
    "                        'section': section_name\n",
    "                    })\n",
    "        \n",
    "        print(f\"Found {len(section_data)} posts in {section_name}\")\n",
    "        return section_data\n",
    "        \n",
    "    except Exception as e:\n",
    "        print(f\"Error scraping {section_name}: {e}\")\n",
    "        return []\n",
    "\n",
    "# Test with just one section first\n",
    "test_data = scrape_reddit_section(\"https://old.reddit.com/r/dataisbeautiful/hot/\", \"Hot\")\n",
    "print(f\"\\n Sample data:\")\n",
    "for i, post in enumerate(test_data[:3]):\n",
    "    print(f\"{i+1}. {post['title'][:50]}... | {post['upvotes']} upvotes | {post['comments']} comments\")"
   ]
  },
  {
   "cell_type": "code",
   "execution_count": 50,
   "id": "84df33d2-1123-48ca-8c24-ee9c3595f990",
   "metadata": {
    "tags": []
   },
   "outputs": [
    {
     "name": "stdout",
     "output_type": "stream",
     "text": [
      "Scraping Hot...\n",
      "Found 28 posts in Hot\n",
      "----------------------------------------\n",
      "Scraping New...\n",
      "Found 27 posts in New\n",
      "----------------------------------------\n",
      "Scraping Top All-Time...\n",
      "Found 12 posts in Top All-Time\n",
      "----------------------------------------\n",
      "Scraping Top Week...\n",
      "Found 28 posts in Top Week\n",
      "----------------------------------------\n",
      "\n",
      " TOTAL POSTS COLLECTED: 95\n",
      "Creating DataFrame...\n",
      "DataFrame created with 95 rows!\n",
      "Columns: ['title', 'upvotes', 'comments', 'section']\n"
     ]
    }
   ],
   "source": [
    "# Cell 13: Now scrape all sections\n",
    "urls_and_names = [\n",
    "    (\"https://old.reddit.com/r/dataisbeautiful/hot/\", \"Hot\"),\n",
    "    (\"https://old.reddit.com/r/dataisbeautiful/new/\", \"New\"), \n",
    "    (\"https://old.reddit.com/r/dataisbeautiful/top/\", \"Top All-Time\"),\n",
    "    (\"https://old.reddit.com/r/dataisbeautiful/top/?t=week\", \"Top Week\")\n",
    "]\n",
    "\n",
    "all_data = []\n",
    "\n",
    "for url, section_name in urls_and_names:\n",
    "    section_data = scrape_reddit_section(url, section_name)\n",
    "    all_data.extend(section_data)\n",
    "    time.sleep(2)  # Be nice to Reddit's servers\n",
    "    print(\"-\" * 40)\n",
    "\n",
    "print(f\"\\n TOTAL POSTS COLLECTED: {len(all_data)}\")\n",
    "print(f\"Creating DataFrame...\")\n",
    "\n",
    "# Convert to pandas DataFrame\n",
    "df = pd.DataFrame(all_data)\n",
    "print(f\"DataFrame created with {len(df)} rows!\")\n",
    "print(f\"Columns: {df.columns.tolist()}\")"
   ]
  },
  {
   "cell_type": "code",
   "execution_count": 32,
   "id": "9fde1bb2-dfe4-4c29-b283-ccb7e263d5aa",
   "metadata": {
    "tags": []
   },
   "outputs": [
    {
     "name": "stdout",
     "output_type": "stream",
     "text": [
      "CURRENT DATAFRAME STATUS:\n",
      "========================================\n",
      "Shape: (94, 4)\n",
      "Columns: ['title', 'upvotes', 'comments', 'section']\n",
      "Data types:\n",
      "title       object\n",
      "upvotes      int64\n",
      "comments     int64\n",
      "section     object\n",
      "dtype: object\n",
      "\n",
      "FIRST 5 ROWS:\n",
      "                                               title  upvotes  comments  \\\n",
      "0                     [OC] Birth Rates Across Europe      272       131   \n",
      "1  Don’t just beat them, give them nightmares. Be...        0         0   \n",
      "2  [OC]Mapping America’s Most Desolate Areas by D...      913       154   \n",
      "3              Air incidents and deaths by year [OC]      275        45   \n",
      "4  Most of the increase in natural disasters in t...       92         7   \n",
      "\n",
      "  section  \n",
      "0     Hot  \n",
      "1     Hot  \n",
      "2     Hot  \n",
      "3     Hot  \n",
      "4     Hot  \n",
      "\n",
      "DATA QUALITY CHECK:\n",
      "Missing values:\n",
      "title       0\n",
      "upvotes     0\n",
      "comments    0\n",
      "section     0\n",
      "dtype: int64\n",
      "Duplicate titles: 42\n"
     ]
    }
   ],
   "source": [
    "# Cell 16: Check our current DataFrame\n",
    "print(\"CURRENT DATAFRAME STATUS:\")\n",
    "print(\"=\" * 40)\n",
    "print(f\"Shape: {df.shape}\")\n",
    "print(f\"Columns: {df.columns.tolist()}\")\n",
    "print(f\"Data types:\\n{df.dtypes}\")\n",
    "\n",
    "print(\"\\nFIRST 5 ROWS:\")\n",
    "print(df.head())\n",
    "\n",
    "print(\"\\nDATA QUALITY CHECK:\")\n",
    "print(f\"Missing values:\\n{df.isnull().sum()}\")\n",
    "print(f\"Duplicate titles: {df['title'].duplicated().sum()}\")"
   ]
  },
  {
   "cell_type": "code",
   "execution_count": 33,
   "id": "dd8dc873-fd76-4feb-aac9-e27947109f30",
   "metadata": {
    "tags": []
   },
   "outputs": [
    {
     "name": "stdout",
     "output_type": "stream",
     "text": [
      "CLEANING AND ENHANCING DATA...\n",
      "Removed 42 duplicate posts\n",
      "\n",
      "CLEANED DATASET:\n",
      "Final rows: 52\n",
      "Columns: ['title', 'upvotes', 'comments', 'section', 'engagement_score', 'title_length', 'has_oc_tag']\n",
      "\n",
      "QUICK STATS:\n",
      "Average title length: 65.3 characters\n",
      "Posts with [OC] tag: 39\n",
      "Average engagement: 1201.8\n"
     ]
    }
   ],
   "source": [
    "# Cell 17: Data cleaning and enhancement\n",
    "print(\"CLEANING AND ENHANCING DATA...\")\n",
    "\n",
    "# Remove duplicates if any\n",
    "df_clean = df.drop_duplicates(subset=['title']).copy()\n",
    "print(f\"Removed {len(df) - len(df_clean)} duplicate posts\")\n",
    "\n",
    "# Add useful calculated fields\n",
    "df_clean['engagement_score'] = df_clean['upvotes'] + (df_clean['comments'] * 5)\n",
    "df_clean['title_length'] = df_clean['title'].str.len()\n",
    "df_clean['has_oc_tag'] = df_clean['title'].str.contains('\\[OC\\]', case=False)\n",
    "\n",
    "print(f\"\\nCLEANED DATASET:\")\n",
    "print(f\"Final rows: {len(df_clean)}\")\n",
    "print(f\"Columns: {df_clean.columns.tolist()}\")\n",
    "\n",
    "print(f\"\\nQUICK STATS:\")\n",
    "print(f\"Average title length: {df_clean['title_length'].mean():.1f} characters\")\n",
    "print(f\"Posts with [OC] tag: {df_clean['has_oc_tag'].sum()}\")\n",
    "print(f\"Average engagement: {df_clean['engagement_score'].mean():.1f}\")\n",
    "\n",
    "# Update our main dataframe\n",
    "df = df_clean.copy()"
   ]
  },
  {
   "cell_type": "markdown",
   "id": "f55b32f4-e25a-481b-9a6e-e0d3d40619af",
   "metadata": {},
   "source": [
    "**How am I calculating the engagement score?**\n",
    "\n",
    "engagement_score = upvotes + (comments * 5)\n",
    "\n",
    "**WHY THIS FORMULA:**\n",
    "\n",
    "**Upvotes** = 1 point each\n",
    "\n",
    "**Direct measure of how much people liked the content**\n",
    "\n",
    "\n",
    "**Comments** = 5 points each\n",
    "\n",
    "Comments require more effort than upvotes\n",
    "Show deeper engagement (people discussing, asking questions)\n",
    "Weighted higher because they're more valuable for content creators"
   ]
  },
  {
   "cell_type": "code",
   "execution_count": 17,
   "id": "4db8fa0e-d5ca-4b96-a0b3-5ac6a643e1c3",
   "metadata": {
    "tags": []
   },
   "outputs": [
    {
     "data": {
      "text/html": [
       "<div>\n",
       "<style scoped>\n",
       "    .dataframe tbody tr th:only-of-type {\n",
       "        vertical-align: middle;\n",
       "    }\n",
       "\n",
       "    .dataframe tbody tr th {\n",
       "        vertical-align: top;\n",
       "    }\n",
       "\n",
       "    .dataframe thead th {\n",
       "        text-align: right;\n",
       "    }\n",
       "</style>\n",
       "<table border=\"1\" class=\"dataframe\">\n",
       "  <thead>\n",
       "    <tr style=\"text-align: right;\">\n",
       "      <th></th>\n",
       "      <th>title</th>\n",
       "      <th>upvotes</th>\n",
       "      <th>comments</th>\n",
       "      <th>section</th>\n",
       "      <th>engagement_score</th>\n",
       "      <th>title_length</th>\n",
       "      <th>has_oc_tag</th>\n",
       "    </tr>\n",
       "  </thead>\n",
       "  <tbody>\n",
       "    <tr>\n",
       "      <th>0</th>\n",
       "      <td>[OC] Birth Rates Across Europe</td>\n",
       "      <td>243</td>\n",
       "      <td>120</td>\n",
       "      <td>Hot</td>\n",
       "      <td>843</td>\n",
       "      <td>30</td>\n",
       "      <td>True</td>\n",
       "    </tr>\n",
       "    <tr>\n",
       "      <th>1</th>\n",
       "      <td>Don’t just beat them, give them nightmares. Be...</td>\n",
       "      <td>0</td>\n",
       "      <td>0</td>\n",
       "      <td>Hot</td>\n",
       "      <td>0</td>\n",
       "      <td>58</td>\n",
       "      <td>False</td>\n",
       "    </tr>\n",
       "    <tr>\n",
       "      <th>2</th>\n",
       "      <td>[OC]Mapping America’s Most Desolate Areas by D...</td>\n",
       "      <td>893</td>\n",
       "      <td>153</td>\n",
       "      <td>Hot</td>\n",
       "      <td>1658</td>\n",
       "      <td>80</td>\n",
       "      <td>True</td>\n",
       "    </tr>\n",
       "    <tr>\n",
       "      <th>3</th>\n",
       "      <td>Air incidents and deaths by year [OC]</td>\n",
       "      <td>268</td>\n",
       "      <td>45</td>\n",
       "      <td>Hot</td>\n",
       "      <td>493</td>\n",
       "      <td>37</td>\n",
       "      <td>True</td>\n",
       "    </tr>\n",
       "    <tr>\n",
       "      <th>4</th>\n",
       "      <td>Most of the increase in natural disasters in t...</td>\n",
       "      <td>93</td>\n",
       "      <td>7</td>\n",
       "      <td>Hot</td>\n",
       "      <td>128</td>\n",
       "      <td>95</td>\n",
       "      <td>False</td>\n",
       "    </tr>\n",
       "  </tbody>\n",
       "</table>\n",
       "</div>"
      ],
      "text/plain": [
       "                                               title  upvotes  comments  \\\n",
       "0                     [OC] Birth Rates Across Europe      243       120   \n",
       "1  Don’t just beat them, give them nightmares. Be...        0         0   \n",
       "2  [OC]Mapping America’s Most Desolate Areas by D...      893       153   \n",
       "3              Air incidents and deaths by year [OC]      268        45   \n",
       "4  Most of the increase in natural disasters in t...       93         7   \n",
       "\n",
       "  section  engagement_score  title_length  has_oc_tag  \n",
       "0     Hot               843            30        True  \n",
       "1     Hot                 0            58       False  \n",
       "2     Hot              1658            80        True  \n",
       "3     Hot               493            37        True  \n",
       "4     Hot               128            95       False  "
      ]
     },
     "execution_count": 17,
     "metadata": {},
     "output_type": "execute_result"
    }
   ],
   "source": [
    "df.head()"
   ]
  },
  {
   "cell_type": "code",
   "execution_count": 19,
   "id": "d4cbd6c8-ad9c-43ac-a763-f78be1edd4e4",
   "metadata": {
    "tags": []
   },
   "outputs": [
    {
     "name": "stdout",
     "output_type": "stream",
     "text": [
      "ENGAGEMENT SCORE BREAKDOWN:\n",
      "Average upvotes: 606.8\n",
      "Average comments: 124.5\n",
      "Comments contribution: 622.6\n",
      "Total engagement: 1229.4\n",
      "\n",
      "TOP 3 POSTS BY ENGAGEMENT:\n",
      "4094 upvotes + 547 comments = 6829 engagement\n",
      "3852 upvotes + 578 comments = 6742 engagement\n",
      "3674 upvotes + 323 comments = 5289 engagement\n"
     ]
    }
   ],
   "source": [
    "# Cell 18: Verify engagement score calculation\n",
    "print(\"ENGAGEMENT SCORE BREAKDOWN:\")\n",
    "print(f\"Average upvotes: {df['upvotes'].mean():.1f}\")\n",
    "print(f\"Average comments: {df['comments'].mean():.1f}\")\n",
    "print(f\"Comments contribution: {(df['comments'] * 5).mean():.1f}\")\n",
    "print(f\"Total engagement: {df['engagement_score'].mean():.1f}\")\n",
    "\n",
    "print(\"\\nTOP 3 POSTS BY ENGAGEMENT:\")\n",
    "top_posts = df.nlargest(3, 'engagement_score')\n",
    "for i, row in top_posts.iterrows():\n",
    "    print(f\"{row['upvotes']} upvotes + {row['comments']} comments = {row['engagement_score']} engagement\")"
   ]
  },
  {
   "cell_type": "code",
   "execution_count": 18,
   "id": "4cadde91-b5c4-42d6-a2eb-2f564641becf",
   "metadata": {
    "tags": []
   },
   "outputs": [
    {
     "name": "stdout",
     "output_type": "stream",
     "text": [
      "ORIGINAL CONTENT vs SHARED CONTENT:\n",
      "========================================\n",
      "Average performance:\n",
      "            upvotes  comments  engagement_score\n",
      "has_oc_tag                                     \n",
      "False         320.2      25.8             449.0\n",
      "True          704.8     158.3            1496.4\n",
      "\n",
      "Breakdown:\n",
      "Original Content [OC]: 38 posts\n",
      "Shared Content: 13 posts\n"
     ]
    }
   ],
   "source": [
    "# Cell 19: Analyze OC tag impact\n",
    "print(\"ORIGINAL CONTENT vs SHARED CONTENT:\")\n",
    "print(\"=\" * 40)\n",
    "\n",
    "oc_analysis = df.groupby('has_oc_tag').agg({\n",
    "    'upvotes': 'mean',\n",
    "    'comments': 'mean', \n",
    "    'engagement_score': 'mean'\n",
    "}).round(1)\n",
    "\n",
    "print(\"Average performance:\")\n",
    "print(oc_analysis)\n",
    "\n",
    "print(f\"\\nBreakdown:\")\n",
    "print(f\"Original Content [OC]: {df['has_oc_tag'].sum()} posts\")\n",
    "print(f\"Shared Content: {(~df['has_oc_tag']).sum()} posts\")"
   ]
  },
  {
   "cell_type": "code",
   "execution_count": 20,
   "id": "6df61bc8-f1a9-4112-884d-6c5c919526bd",
   "metadata": {
    "tags": []
   },
   "outputs": [
    {
     "data": {
      "text/plain": [
       "(51, 7)"
      ]
     },
     "execution_count": 20,
     "metadata": {},
     "output_type": "execute_result"
    }
   ],
   "source": [
    "df.shape"
   ]
  },
  {
   "cell_type": "code",
   "execution_count": 34,
   "id": "077e79e6-8ec8-4629-98a4-4e77b2b06a26",
   "metadata": {
    "tags": []
   },
   "outputs": [
    {
     "name": "stdout",
     "output_type": "stream",
     "text": [
      "CATEGORIZING CONTENT...\n",
      "CATEGORY BREAKDOWN:\n",
      "category\n",
      "Economics/Finance         13\n",
      "Geography/Demographics    13\n",
      "Other                     13\n",
      "Technology                 6\n",
      "Health/Medical             3\n",
      "Environment/Climate        2\n",
      "Transportation             1\n",
      "Sports/Entertainment       1\n",
      "Name: count, dtype: int64\n",
      "\n",
      "SAMPLE CATEGORIZATIONS:\n",
      "Health/Medical: [OC] Birth Rates Across Europe...\n",
      "Transportation: Don’t just beat them, give them nightmares. Be Scary Good....\n",
      "Economics/Finance: [OC]Mapping America’s Most Desolate Areas by Distance from C...\n",
      "Environment/Climate: Most of the increase in natural disasters in the late 20th c...\n",
      "Geography/Demographics: Americans' favorite season of the year, by age group [OC]...\n"
     ]
    }
   ],
   "source": [
    "# Cell 21: AI-powered content categorization\n",
    "def categorize_content(title):\n",
    "    \"\"\"\n",
    "    Categorize posts by topic using keyword matching\n",
    "    (Simulates AI categorization for our portfolio project)\n",
    "    \"\"\"\n",
    "    title_lower = title.lower()\n",
    "    \n",
    "    # Defining categories and their keywords\n",
    "    categories = {\n",
    "        'Economics/Finance': ['money', 'income', 'salary', 'cost', 'price', 'economy', 'financial', \n",
    "                             'gdp', 'market', 'wealth', 'debt', 'revenue', 'stock', 'investment'],\n",
    "        'Health/Medical': ['health', 'covid', 'death', 'medical', 'vaccine', 'disease', 'hospital',\n",
    "                          'mortality', 'life expectancy', 'birth', 'healthcare'],\n",
    "        'Technology': ['tech', 'ai', 'internet', 'computer', 'software', 'digital', 'app', 'data',\n",
    "                      'algorithm', 'programming', 'coding'],\n",
    "        'Geography/Demographics': ['country', 'state', 'city', 'map', 'world', 'location', 'population',\n",
    "                                  'age', 'gender', 'demographic', 'america', 'europe', 'china'],\n",
    "        'Environment/Climate': ['climate', 'temperature', 'weather', 'carbon', 'environment', 'green',\n",
    "                               'pollution', 'energy', 'disasters', 'natural'],\n",
    "        'Sports/Entertainment': ['sport', 'game', 'team', 'player', 'win', 'score', 'olympic', 'movie',\n",
    "                               'entertainment', 'music'],\n",
    "        'Transportation': ['car', 'traffic', 'transport', 'airline', 'flight', 'road', 'vehicle'],\n",
    "        'Other': []\n",
    "    }\n",
    "    \n",
    "    # Finding best matching category\n",
    "    for category, keywords in categories.items():\n",
    "        if any(keyword in title_lower for keyword in keywords):\n",
    "            return category\n",
    "    \n",
    "    return 'Other'\n",
    "\n",
    "# Applying categorization\n",
    "print(\"CATEGORIZING CONTENT...\")\n",
    "df['category'] = df['title'].apply(categorize_content)\n",
    "\n",
    "# Showing the results\n",
    "print(\"CATEGORY BREAKDOWN:\")\n",
    "category_counts = df['category'].value_counts()\n",
    "print(category_counts)\n",
    "\n",
    "print(\"\\nSAMPLE CATEGORIZATIONS:\")\n",
    "for category in df['category'].unique()[:5]:\n",
    "    sample = df[df['category'] == category]['title'].iloc[0]\n",
    "    print(f\"{category}: {sample[:60]}...\")"
   ]
  },
  {
   "cell_type": "code",
   "execution_count": 35,
   "id": "6414d989-82f1-453f-b2c3-24de6bc73b6c",
   "metadata": {
    "tags": []
   },
   "outputs": [
    {
     "name": "stdout",
     "output_type": "stream",
     "text": [
      "POSTS CATEGORIZED AS 'OTHER':\n",
      "==================================================\n",
      " 1. [OC] How many years can you expect to live after retirement?\n",
      " 2. [OC] Every bus and tram in Lisbon right now and where they were 5 minutes ago\n",
      " 3. [OC] Measuring the SP500 returns in EUR and CHF since Trump's election.\n",
      " 4. With CSL Plasma so close to home, it’s easy to make an impact. Donate plasma today and receive up to $700 your first month.\n",
      " 5. [OC] Every bus and tram in Lisbon 5 minutes ago (2025-07-02 18:35)\n",
      " 6. Line Charted My Marvel (Mostly X-Men) Comics\n",
      " 7. Global Causalities per 100k from War and Famine Each Decade Since 1900 [OC]\n",
      " 8. What can and cannot be called a glass of water? [OC]\n",
      " 9. cans so smart they can speak for themselves\n",
      "10. [OC] 2025 budget mid-year update\n",
      "11. Hydrate with BODYARMOR: NO artificial dyes\n",
      "12. [OC] Number of subreddit members by number 'yes' in subreddit title, followed by 'no'\n",
      "13. Don’t just scramble your eggs. Philly them.\n",
      "\n",
      "Total 'Other' posts: 13\n"
     ]
    }
   ],
   "source": [
    "# Cell 22: Analyze \"Other\" category posts\n",
    "print(\"POSTS CATEGORIZED AS 'OTHER':\")\n",
    "print(\"=\" * 50)\n",
    "\n",
    "other_posts = df[df['category'] == 'Other']['title'].tolist()\n",
    "for i, title in enumerate(other_posts, 1):\n",
    "    print(f\"{i:2d}. {title}\")\n",
    "\n",
    "print(f\"\\nTotal 'Other' posts: {len(other_posts)}\")"
   ]
  },
  {
   "cell_type": "code",
   "execution_count": 36,
   "id": "edb59134-7a5f-4413-b70d-741b1bc856cb",
   "metadata": {
    "tags": []
   },
   "outputs": [
    {
     "name": "stdout",
     "output_type": "stream",
     "text": [
      "RECATEGORIZING WITH EXPANDED CATEGORIES...\n",
      "NEW CATEGORY BREAKDOWN:\n",
      "category\n",
      "Economics/Finance         14\n",
      "Other                     13\n",
      "Geography/Demographics    12\n",
      "Technology                 6\n",
      "Health/Medical             3\n",
      "Environment/Climate        2\n",
      "Transportation             1\n",
      "Social/Lifestyle           1\n",
      "Name: count, dtype: int64\n",
      "\n",
      "Remaining 'Other' posts: 13\n",
      "Still uncategorized:\n",
      "- [OC] How many years can you expect to live after retirement?\n",
      "- [OC] Every bus and tram in Lisbon right now and where they were 5 minutes ago\n",
      "- [OC] Measuring the SP500 returns in EUR and CHF since Trump's election.\n",
      "- With CSL Plasma so close to home, it’s easy to make an impact. Donate plasma today and receive up to $700 your first month.\n",
      "- [OC] Every bus and tram in Lisbon 5 minutes ago (2025-07-02 18:35)\n",
      "- Line Charted My Marvel (Mostly X-Men) Comics\n",
      "- Global Causalities per 100k from War and Famine Each Decade Since 1900 [OC]\n",
      "- What can and cannot be called a glass of water? [OC]\n",
      "- cans so smart they can speak for themselves\n",
      "- [OC] 2025 budget mid-year update\n",
      "- Hydrate with BODYARMOR: NO artificial dyes\n",
      "- [OC] Number of subreddit members by number 'yes' in subreddit title, followed by 'no'\n",
      "- Don’t just scramble your eggs. Philly them.\n"
     ]
    }
   ],
   "source": [
    "# Cell 23: Improved categorization with more categories\n",
    "def improved_categorize_content(title):\n",
    "    \"\"\"Enhanced categorization with more specific categories\"\"\"\n",
    "    title_lower = title.lower()\n",
    "    \n",
    "    categories = {\n",
    "        'Economics/Finance': ['money', 'income', 'salary', 'cost', 'price', 'economy', 'financial', \n",
    "                             'gdp', 'market', 'wealth', 'debt', 'revenue', 'stock', 'investment',\n",
    "                             'cap', 'magnificent seven', 'retail'],\n",
    "        'Health/Medical': ['health', 'covid', 'death', 'medical', 'vaccine', 'disease', 'hospital',\n",
    "                          'mortality', 'life expectancy', 'birth', 'healthcare'],\n",
    "        'Technology': ['tech', 'ai', 'internet', 'computer', 'software', 'digital', 'app', 'data',\n",
    "                      'algorithm', 'programming', 'coding', 'chatgpt'],\n",
    "        'Geography/Demographics': ['country', 'state', 'city', 'map', 'world', 'location', 'population',\n",
    "                                  'age', 'gender', 'demographic', 'america', 'europe', 'china', 'areas'],\n",
    "        'Environment/Climate': ['climate', 'temperature', 'weather', 'carbon', 'environment', 'green',\n",
    "                               'pollution', 'energy', 'disasters', 'natural'],\n",
    "        'Business/Retail': ['business', 'company', 'brand', 'retail', 'store', 'costco', 'walmart',\n",
    "                           'franchise', 'corporate', 'customer'],\n",
    "        'Safety/Incidents': ['accident', 'incident', 'death', 'safety', 'air', 'crash', 'violence'],\n",
    "        'Social/Lifestyle': ['season', 'favorite', 'preference', 'behavior', 'social', 'culture',\n",
    "                           'lifestyle', 'trend', 'survey'],\n",
    "        'Transportation': ['car', 'traffic', 'transport', 'airline', 'flight', 'road', 'vehicle'],\n",
    "        'Sports/Entertainment': ['sport', 'game', 'team', 'player', 'win', 'score', 'olympic', 'movie'],\n",
    "        'Other': []\n",
    "    }\n",
    "    \n",
    "    for category, keywords in categories.items():\n",
    "        if any(keyword in title_lower for keyword in keywords):\n",
    "            return category\n",
    "    \n",
    "    return 'Other'\n",
    "\n",
    "# Recategorize with improved function\n",
    "print(\"RECATEGORIZING WITH EXPANDED CATEGORIES...\")\n",
    "df['category'] = df['title'].apply(improved_categorize_content)\n",
    "\n",
    "print(\"NEW CATEGORY BREAKDOWN:\")\n",
    "new_category_counts = df['category'].value_counts()\n",
    "print(new_category_counts)\n",
    "\n",
    "print(f\"\\nRemaining 'Other' posts: {len(df[df['category'] == 'Other'])}\")\n",
    "if len(df[df['category'] == 'Other']) > 0:\n",
    "    print(\"Still uncategorized:\")\n",
    "    for title in df[df['category'] == 'Other']['title']:\n",
    "        print(f\"- {title}\")"
   ]
  },
  {
   "cell_type": "code",
   "execution_count": 37,
   "id": "27127f4f-f6c8-4102-8ebe-d77b7d394d18",
   "metadata": {
    "tags": []
   },
   "outputs": [
    {
     "name": "stdout",
     "output_type": "stream",
     "text": [
      "APPLYING FINAL CATEGORIZATION...\n",
      "FINAL CATEGORY BREAKDOWN:\n",
      "category\n",
      "Economics/Finance         15\n",
      "Geography/Demographics    11\n",
      "Technology                 8\n",
      "Business/Advertising       5\n",
      "Health/Medical             4\n",
      "Transportation             3\n",
      "Environment/Climate        2\n",
      "Entertainment/Media        1\n",
      "Social/Politics            1\n",
      "Science/Research           1\n",
      "Other                      1\n",
      "Name: count, dtype: int64\n",
      "\n",
      "Remaining 'Other' posts: 1\n",
      "Still uncategorized:\n",
      "- Sports Seasonality: A Visualization of Schedules in 2024 [OC]\n",
      "STEP 3A COMPLETE: Content Categorization Done!\n"
     ]
    }
   ],
   "source": [
    "# Cell 24: Manual categorization for specific posts\n",
    "def final_categorize_content(title):\n",
    "    \"\"\"Final categorization with manual assignments for edge cases\"\"\"\n",
    "    title_lower = title.lower()\n",
    "    \n",
    "    # Manual assignments for specific posts\n",
    "    manual_assignments = {\n",
    "        'retirement': 'Economics/Finance',\n",
    "        'sp500': 'Economics/Finance', \n",
    "        'budget': 'Economics/Finance',\n",
    "        'bus and tram': 'Transportation',\n",
    "        'lisbon': 'Transportation',\n",
    "        'war and famine': 'Social/Politics',\n",
    "        'casualties': 'Social/Politics',\n",
    "        'marvel': 'Entertainment/Media',\n",
    "        'comics': 'Entertainment/Media',\n",
    "        'x-men': 'Entertainment/Media',\n",
    "        'subreddit': 'Technology',\n",
    "        'plasma': 'Health/Medical',\n",
    "        'water': 'Science/Research',\n",
    "        'bodyarmor': 'Business/Advertising',\n",
    "        'eggs': 'Business/Advertising',\n",
    "        'philly': 'Business/Advertising',\n",
    "        'cans': 'Business/Advertising'\n",
    "    }\n",
    "    \n",
    "    # Check manual assignments first\n",
    "    for keyword, category in manual_assignments.items():\n",
    "        if keyword in title_lower:\n",
    "            return category\n",
    "    \n",
    "    # Fall back to original categorization\n",
    "    categories = {\n",
    "        'Economics/Finance': ['money', 'income', 'salary', 'cost', 'price', 'economy', 'financial', \n",
    "                             'gdp', 'market', 'wealth', 'debt', 'revenue', 'stock', 'investment'],\n",
    "        'Health/Medical': ['health', 'covid', 'death', 'medical', 'vaccine', 'disease', 'hospital',\n",
    "                          'mortality', 'life expectancy', 'birth', 'healthcare'],\n",
    "        'Technology': ['tech', 'ai', 'internet', 'computer', 'software', 'digital', 'app', 'data',\n",
    "                      'algorithm', 'programming', 'coding', 'chatgpt'],\n",
    "        'Geography/Demographics': ['country', 'state', 'city', 'map', 'world', 'location', 'population',\n",
    "                                  'age', 'gender', 'demographic', 'america', 'europe', 'china', 'areas'],\n",
    "        'Environment/Climate': ['climate', 'temperature', 'weather', 'carbon', 'environment', 'green',\n",
    "                               'pollution', 'energy', 'disasters', 'natural'],\n",
    "        'Transportation': ['car', 'traffic', 'transport', 'airline', 'flight', 'road', 'vehicle'],\n",
    "        'Social/Politics': ['war', 'violence', 'political', 'government', 'policy'],\n",
    "        'Entertainment/Media': ['movie', 'show', 'media', 'entertainment'],\n",
    "        'Science/Research': ['research', 'study', 'scientific', 'experiment'],\n",
    "        'Business/Advertising': ['brand', 'advertising', 'promotion', 'marketing'],\n",
    "        'Other': []\n",
    "    }\n",
    "    \n",
    "    for category, keywords in categories.items():\n",
    "        if any(keyword in title_lower for keyword in keywords):\n",
    "            return category\n",
    "    \n",
    "    return 'Other'\n",
    "\n",
    "# Apply final categorization\n",
    "print(\"APPLYING FINAL CATEGORIZATION...\")\n",
    "df['category'] = df['title'].apply(final_categorize_content)\n",
    "\n",
    "print(\"FINAL CATEGORY BREAKDOWN:\")\n",
    "final_counts = df['category'].value_counts()\n",
    "print(final_counts)\n",
    "\n",
    "print(f\"\\nRemaining 'Other' posts: {len(df[df['category'] == 'Other'])}\")\n",
    "if len(df[df['category'] == 'Other']) > 0:\n",
    "    print(\"Still uncategorized:\")\n",
    "    for title in df[df['category'] == 'Other']['title']:\n",
    "        print(f\"- {title}\")\n",
    "\n",
    "print(\"STEP 3A COMPLETE: Content Categorization Done!\")"
   ]
  },
  {
   "cell_type": "code",
   "execution_count": 38,
   "id": "7e792bb6-5bb9-4650-8a7b-b1eef319a4ea",
   "metadata": {
    "tags": []
   },
   "outputs": [
    {
     "name": "stdout",
     "output_type": "stream",
     "text": [
      "ANALYZING SENTIMENT...\n",
      "SENTIMENT BREAKDOWN:\n",
      "sentiment\n",
      "Neutral     37\n",
      "Positive    12\n",
      "Negative     3\n",
      "Name: count, dtype: int64\n",
      "\n",
      "SAMPLE SENTIMENT ANALYSIS:\n",
      "Positive: Don’t just beat them, give them nightmares. Be Scary Good....\n",
      "Negative: Air incidents and deaths by year [OC]...\n",
      "Neutral: [OC] Birth Rates Across Europe...\n",
      "\n",
      "STEP 3B COMPLETE: Sentiment Analysis Done!\n"
     ]
    }
   ],
   "source": [
    "# Cell 25: Sentiment analysis of post titles\n",
    "def analyze_sentiment(title):\n",
    "    \"\"\"\n",
    "    Analyze sentiment of post titles\n",
    "    (Simulates AI sentiment analysis)\n",
    "    \"\"\"\n",
    "    title_lower = title.lower()\n",
    "    \n",
    "    # Define sentiment keywords\n",
    "    positive_keywords = ['increase', 'growth', 'improve', 'best', 'top', 'win', 'success', \n",
    "                        'better', 'rise', 'gain', 'up', 'high', 'more', 'favorite', 'good']\n",
    "    \n",
    "    negative_keywords = ['decrease', 'decline', 'worst', 'fail', 'drop', 'crisis', 'fall',\n",
    "                        'down', 'low', 'less', 'death', 'disaster', 'war', 'violence', 'bad']\n",
    "    \n",
    "    neutral_keywords = ['map', 'chart', 'data', 'visualization', 'analysis', 'comparison',\n",
    "                       'every', 'number', 'measure', 'track']\n",
    "    \n",
    "    # Count sentiment indicators\n",
    "    positive_count = sum(1 for word in positive_keywords if word in title_lower)\n",
    "    negative_count = sum(1 for word in negative_keywords if word in title_lower)\n",
    "    neutral_count = sum(1 for word in neutral_keywords if word in title_lower)\n",
    "    \n",
    "    # Determine sentiment\n",
    "    if positive_count > negative_count and positive_count > 0:\n",
    "        return 'Positive'\n",
    "    elif negative_count > positive_count and negative_count > 0:\n",
    "        return 'Negative'\n",
    "    else:\n",
    "        return 'Neutral'\n",
    "\n",
    "# Apply sentiment analysis\n",
    "print(\"ANALYZING SENTIMENT...\")\n",
    "df['sentiment'] = df['title'].apply(analyze_sentiment)\n",
    "\n",
    "print(\"SENTIMENT BREAKDOWN:\")\n",
    "sentiment_counts = df['sentiment'].value_counts()\n",
    "print(sentiment_counts)\n",
    "\n",
    "print(\"\\nSAMPLE SENTIMENT ANALYSIS:\")\n",
    "for sentiment in ['Positive', 'Negative', 'Neutral']:\n",
    "    if sentiment in df['sentiment'].values:\n",
    "        sample = df[df['sentiment'] == sentiment]['title'].iloc[0]\n",
    "        print(f\"{sentiment}: {sample[:60]}...\")\n",
    "\n",
    "print(\"\\nSTEP 3B COMPLETE: Sentiment Analysis Done!\")"
   ]
  },
  {
   "cell_type": "code",
   "execution_count": 40,
   "id": "d0d0bbb8-9a5e-43ad-b8ad-7f8459d7f426",
   "metadata": {
    "tags": []
   },
   "outputs": [
    {
     "name": "stdout",
     "output_type": "stream",
     "text": [
      "GENERATING KEY INSIGHTS...\n",
      "==================================================\n",
      "1. CATEGORY PERFORMANCE:\n",
      "Top performing categories by engagement:\n",
      "                        engagement_score  upvotes  comments\n",
      "category                                                   \n",
      "Science/Research                  4496.0   2571.0     385.0\n",
      "Geography/Demographics            1901.8    742.3     231.9\n",
      "Business/Advertising              1688.6    912.6     155.2\n",
      "Economics/Finance                 1160.4    608.7     110.3\n",
      "Technology                        1013.2    603.2      82.0\n",
      "\n",
      "2. SENTIMENT IMPACT:\n",
      "Performance by sentiment:\n",
      "           engagement_score  upvotes  comments\n",
      "sentiment                                     \n",
      "Negative              706.3    508.0      39.7\n",
      "Neutral              1432.3    689.0     148.6\n",
      "Positive              615.2    304.0      62.2\n",
      "\n",
      "3. ORIGINAL CONTENT ANALYSIS:\n",
      "Original vs Shared content performance:\n",
      "                       engagement_score  upvotes  comments\n",
      "Shared Content                    420.8    292.0      25.8\n",
      "Original Content [OC]            1462.2    689.0     154.6\n",
      "\n",
      "4. TITLE LENGTH INSIGHTS:\n",
      "Performance by title length:\n",
      "                 engagement_score  title_length\n",
      "length_category                                \n",
      "Short                      1297.9          46.2\n",
      "Medium                     1228.6          79.5\n",
      "Long                        118.3         144.0\n",
      "\n",
      "5. TOP PERFORMING POSTS:\n",
      "6843: [OC] Young adults are dying at an increasing rate ... (Geography/Demographics, Neutral)\n",
      "6740: [OC] How much money are Americans saving?... (Business/Advertising, Neutral)\n",
      "5285: This 3D Map Visualizes the U.S. Economy in a New W... (Economics/Finance, Neutral)\n",
      "5240: [OC] Median Wage for Women Expressed as a Percenta... (Geography/Demographics, Neutral)\n",
      "4496: What can and cannot be called a glass of water? [O... (Science/Research, Neutral)\n"
     ]
    },
    {
     "name": "stderr",
     "output_type": "stream",
     "text": [
      "/var/folders/9c/9gm285k54tz9ysvymk9gtd400000gn/T/ipykernel_67453/371224021.py:42: FutureWarning: The default of observed=False is deprecated and will be changed to True in a future version of pandas. Pass observed=False to retain current behavior or observed=True to adopt the future default and silence this warning.\n",
      "  length_performance = df.groupby('length_category').agg({\n"
     ]
    }
   ],
   "source": [
    "# Cell 26: Generate insights from our analysis\n",
    "print(\"GENERATING KEY INSIGHTS...\")\n",
    "print(\"=\" * 50)\n",
    "\n",
    "# 1. Category Performance Analysis\n",
    "print(\"1. CATEGORY PERFORMANCE:\")\n",
    "category_performance = df.groupby('category').agg({\n",
    "    'engagement_score': 'mean',\n",
    "    'upvotes': 'mean',\n",
    "    'comments': 'mean'\n",
    "}).round(1).sort_values('engagement_score', ascending=False)\n",
    "\n",
    "print(\"Top performing categories by engagement:\")\n",
    "print(category_performance.head())\n",
    "\n",
    "# 2. Sentiment Impact Analysis  \n",
    "print(\"\\n2. SENTIMENT IMPACT:\")\n",
    "sentiment_performance = df.groupby('sentiment').agg({\n",
    "    'engagement_score': 'mean',\n",
    "    'upvotes': 'mean', \n",
    "    'comments': 'mean'\n",
    "}).round(1)\n",
    "\n",
    "print(\"Performance by sentiment:\")\n",
    "print(sentiment_performance)\n",
    "\n",
    "# 3. Original Content vs Shared Content\n",
    "print(\"\\n3. ORIGINAL CONTENT ANALYSIS:\")\n",
    "oc_performance = df.groupby('has_oc_tag').agg({\n",
    "    'engagement_score': 'mean',\n",
    "    'upvotes': 'mean',\n",
    "    'comments': 'mean'\n",
    "}).round(1)\n",
    "\n",
    "oc_performance.index = ['Shared Content', 'Original Content [OC]']\n",
    "print(\"Original vs Shared content performance:\")\n",
    "print(oc_performance)\n",
    "\n",
    "# 4. Title Length Analysis\n",
    "print(\"\\n4. TITLE LENGTH INSIGHTS:\")\n",
    "df['length_category'] = pd.cut(df['title_length'], bins=3, labels=['Short', 'Medium', 'Long'])\n",
    "length_performance = df.groupby('length_category').agg({\n",
    "    'engagement_score': 'mean',\n",
    "    'title_length': 'mean'\n",
    "}).round(1)\n",
    "\n",
    "print(\"Performance by title length:\")\n",
    "print(length_performance)\n",
    "\n",
    "# 5. Top Performers\n",
    "print(\"\\n5. TOP PERFORMING POSTS:\")\n",
    "top_posts = df.nlargest(5, 'engagement_score')[['title', 'category', 'sentiment', 'engagement_score']]\n",
    "for i, row in top_posts.iterrows():\n",
    "    print(f\"{row['engagement_score']:4.0f}: {row['title'][:50]}... ({row['category']}, {row['sentiment']})\")\n"
   ]
  },
  {
   "cell_type": "markdown",
   "id": "1e48319b-d070-4a2a-90bb-6a517fcd7884",
   "metadata": {},
   "source": [
    "##Here are some insights: \n",
    "\n",
    "**KEY FINDINGS THAT STAND OUT TO ME:**\n",
    "    \n",
    "**1.ORIGINAL CONTENT ABSOLUTELY DOMINATES:**\n",
    "\n",
    "Original [OC] content: 1,462 avg engagement\n",
    "\n",
    "Shared content: Only 421 avg engagement\n",
    "\n",
    "Insight: Creating your own visualizations gets 3.5x more engagement!\n",
    "\n",
    "**2. SCIENCE/RESEARCH IS THE VIRAL KING:**\n",
    "\n",
    "Science/Research: 4,496 engagement (way ahead!)\n",
    "\n",
    "Geography/Demographics: 1,902 engagement\n",
    "\n",
    "Insight: People love discovering new scientific insights\n",
    "\n",
    "**3. NEUTRAL TONE WINS:**\n",
    "\n",
    "Neutral content: 1,432 engagement\n",
    "\n",
    "Positive content: Only 615 engagement\n",
    "\n",
    "Insight: Data audiences prefer factual, objective content over emotional appeals\n",
    "\n",
    "**4. SHORTER TITLES PERFORM BETTER:**\n",
    "\n",
    "Short titles: 1,298 engagement\n",
    "\n",
    "Long titles: Only 118 engagement\n",
    "\n",
    "Insight: Keep titles concise for maximum impact\n",
    "\n",
    "**5. ALL TOP PERFORMERS ARE NEUTRAL & ORIGINAL:**\n",
    "\n",
    "Every top post is [OC] and neutral sentiment\n",
    "\n",
    "Mix of categories but all fact-based\n",
    "\n",
    "**CONTENT STRATEGY RECOMMENDATIONS:**\n",
    "\n",
    "Create original content - don't just share others' work\n",
    "\n",
    "Focus on scientific insights and demographic trends\n",
    "\n",
    "Use neutral, factual tone - let data speak for itself\n",
    "\n",
    "Keep titles short and punchy (under 50 characters)\n",
    "\n",
    "Geography/Demographics is consistently popular\n",
    "\n"
   ]
  },
  {
   "cell_type": "code",
   "execution_count": 41,
   "id": "3b02bdaa-eb75-4f16-9287-abc82f04bd2d",
   "metadata": {
    "tags": []
   },
   "outputs": [
    {
     "data": {
      "image/png": "[encoded data removed]",
      "text/plain": [
       "<Figure size 1800x1200 with 6 Axes>"
      ]
     },
     "metadata": {},
     "output_type": "display_data"
    },
    {
     "name": "stdout",
     "output_type": "stream",
     "text": [
      "Dashboard saved as 'viral_content_analysis_dashboard.png'\n"
     ]
    }
   ],
   "source": [
    "# Cell 27: Lets Set up visualization style and create comprehensive charts\n",
    "import matplotlib.pyplot as plt\n",
    "import seaborn as sns\n",
    "plt.style.use('default')\n",
    "sns.set_palette(\"husl\")\n",
    "\n",
    "# Create a comprehensive dashboard\n",
    "fig, axes = plt.subplots(2, 3, figsize=(18, 12))\n",
    "fig.suptitle('What Makes Data Content Go Viral? Analysis of Reddit r/dataisbeautiful', \n",
    "             fontsize=16, fontweight='bold', y=0.98)\n",
    "\n",
    "# 1. Category Performance (Top 6 categories)\n",
    "top_categories = df.groupby('category')['engagement_score'].mean().nlargest(6)\n",
    "axes[0,0].barh(range(len(top_categories)), top_categories.values, color='skyblue')\n",
    "axes[0,0].set_yticks(range(len(top_categories)))\n",
    "axes[0,0].set_yticklabels(top_categories.index, fontsize=10)\n",
    "axes[0,0].set_title('Average Engagement by Content Category', fontweight='bold')\n",
    "axes[0,0].set_xlabel('Average Engagement Score')\n",
    "\n",
    "# 2. Original vs Shared Content\n",
    "oc_data = df.groupby('has_oc_tag')['engagement_score'].mean()\n",
    "oc_labels = ['Shared Content', 'Original Content [OC]']\n",
    "axes[0,1].bar(oc_labels, oc_data.values, color=['lightcoral', 'lightgreen'])\n",
    "axes[0,1].set_title('Original vs Shared Content Performance', fontweight='bold')\n",
    "axes[0,1].set_ylabel('Average Engagement Score')\n",
    "for i, v in enumerate(oc_data.values):\n",
    "    axes[0,1].text(i, v + 50, f'{v:.0f}', ha='center', fontweight='bold')\n",
    "\n",
    "# 3. Sentiment Impact\n",
    "sentiment_data = df.groupby('sentiment')['engagement_score'].mean()\n",
    "colors = ['lightcoral', 'lightgray', 'lightgreen']\n",
    "axes[0,2].pie(sentiment_data.values, labels=sentiment_data.index, autopct='%1.1f%%', \n",
    "              colors=colors, startangle=90)\n",
    "axes[0,2].set_title('Engagement Distribution by Sentiment', fontweight='bold')\n",
    "\n",
    "# 4. Title Length vs Engagement Scatter\n",
    "axes[1,0].scatter(df['title_length'], df['engagement_score'], alpha=0.6, color='purple')\n",
    "axes[1,0].set_xlabel('Title Length (characters)')\n",
    "axes[1,0].set_ylabel('Engagement Score')\n",
    "axes[1,0].set_title('Title Length vs Engagement', fontweight='bold')\n",
    "\n",
    "# 5. Upvotes vs Comments Relationship\n",
    "axes[1,1].scatter(df['upvotes'], df['comments'], alpha=0.6, color='orange')\n",
    "axes[1,1].set_xlabel('Upvotes')\n",
    "axes[1,1].set_ylabel('Comments')\n",
    "axes[1,1].set_title('Upvotes vs Comments Correlation', fontweight='bold')\n",
    "\n",
    "# 6. Top 10 Posts by Engagement\n",
    "top_10_posts = df.nlargest(10, 'engagement_score')\n",
    "y_pos = range(len(top_10_posts))\n",
    "axes[1,2].barh(y_pos, top_10_posts['engagement_score'], color='gold')\n",
    "axes[1,2].set_yticks(y_pos)\n",
    "axes[1,2].set_yticklabels([title[:25] + '...' if len(title) > 25 else title \n",
    "                          for title in top_10_posts['title']], fontsize=8)\n",
    "axes[1,2].set_title('Top 10 Most Engaging Posts', fontweight='bold')\n",
    "axes[1,2].set_xlabel('Engagement Score')\n",
    "\n",
    "plt.tight_layout()\n",
    "plt.savefig('viral_content_analysis_dashboard.png', dpi=300, bbox_inches='tight')\n",
    "plt.show()\n",
    "\n",
    "print(\"Dashboard saved as 'viral_content_analysis_dashboard.png'\")"
   ]
  },
  {
   "cell_type": "code",
   "execution_count": null,
   "id": "3af90225-2834-4441-a114-00d2113ac19f",
   "metadata": {},
   "outputs": [],
   "source": []
  }
 ],
 "metadata": {
  "kernelspec": {
   "display_name": "Python 3 (ipykernel)",
   "language": "python",
   "name": "python3"
  },
  "language_info": {
   "codemirror_mode": {
    "name": "ipython",
    "version": 3
   },
   "file_extension": ".py",
   "mimetype": "text/x-python",
   "name": "python",
   "nbconvert_exporter": "python",
   "pygments_lexer": "ipython3",
   "version": "3.11.3"
  }
 },
 "nbformat": 4,
 "nbformat_minor": 5
}
